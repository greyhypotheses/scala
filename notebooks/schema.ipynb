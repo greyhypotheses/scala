{
  "nbformat": 4,
  "nbformat_minor": 0,
  "metadata": {
    "colab": {
      "name": "schema.ipynb",
      "provenance": [],
      "toc_visible": true
    },
    "kernelspec": {
      "name": "python3",
      "display_name": "Python 3"
    },
    "language_info": {
      "name": "python"
    }
  },
  "cells": [
    {
      "cell_type": "markdown",
      "metadata": {
        "id": "pOJzZ5engpHK"
      },
      "source": [
        "## Background"
      ]
    },
    {
      "cell_type": "markdown",
      "metadata": {
        "id": "bg9UpjpoFHbs"
      },
      "source": [
        "The focus herein is the reading of data sets via their schema file definitions.  Critically, the schema files are the same schema files that are used by Apache Spark Scala.  Basically, if a team uses a mix of Python/Scala/Spark for \n",
        "\n",
        "* data modelling & analysis\n",
        "* features engineering\n",
        "* data architecture engineering\n",
        "* and more\n",
        "\n",
        "it is quite helpful if the same schema file can be used across cases.\n",
        "\n",
        "<br>\n",
        "\n",
        "For this illustration the data set is\n",
        "\n",
        "* https://raw.githubusercontent.com/miscellane/hub/develop/data/countries/us/environment/toxins/chemicals/chemicalsEnvirofacts.csv\n",
        "\n",
        "and its schema is outlined in\n",
        "\n",
        "* https://raw.githubusercontent.com/miscellane/hub/develop/data/countries/us/environment/toxins/chemicals/chemicalsEnvirofacts.json\n",
        "\n"
      ]
    },
    {
      "cell_type": "markdown",
      "metadata": {
        "id": "G2ELen0RfhOT"
      },
      "source": [
        "<br>\n",
        "<br>\n",
        "\n",
        "## Libraries"
      ]
    },
    {
      "cell_type": "code",
      "metadata": {
        "id": "oAsQlUf6xXoF"
      },
      "source": [
        "import pandas as pd\n",
        "import numpy as np\n",
        "import requests\n",
        "import json"
      ],
      "execution_count": 1,
      "outputs": []
    },
    {
      "cell_type": "markdown",
      "metadata": {
        "id": "7PzWWTE-xTKm"
      },
      "source": [
        "<br>\n",
        "<br>\n",
        "\n",
        "## Data Sets & Schemata"
      ]
    },
    {
      "cell_type": "markdown",
      "metadata": {
        "id": "rFfCvfx_Gljy"
      },
      "source": [
        "### Schema"
      ]
    },
    {
      "cell_type": "markdown",
      "metadata": {
        "id": "-4xnsvcVA667"
      },
      "source": [
        "Schema URL"
      ]
    },
    {
      "cell_type": "code",
      "metadata": {
        "id": "JAeyzZZbyBE5"
      },
      "source": [
        "schemaurl = 'https://raw.githubusercontent.com/miscellane/hub/develop/data/countries/'\\\n",
        "'us/environment/toxins/chemicals/chemicalsEnvirofacts.json'"
      ],
      "execution_count": 2,
      "outputs": []
    },
    {
      "cell_type": "markdown",
      "metadata": {
        "id": "wb7UHM-RA9Ts"
      },
      "source": [
        "<br>\n",
        "\n",
        "Schema Reading"
      ]
    },
    {
      "cell_type": "code",
      "metadata": {
        "id": "7JnPSz_OzmZW"
      },
      "source": [
        "try:\n",
        "    req = requests.get(url=schemaurl)\n",
        "    req.raise_for_status()\n",
        "except requests.exceptions.RequestException as err:\n",
        "    raise err"
      ],
      "execution_count": 3,
      "outputs": []
    },
    {
      "cell_type": "markdown",
      "metadata": {
        "id": "Pxj97sDrBFwj"
      },
      "source": [
        "<br>\n",
        "\n",
        "Schema Content"
      ]
    },
    {
      "cell_type": "code",
      "metadata": {
        "id": "hCb8tebRz8F3"
      },
      "source": [
        "content = json.loads(req.content)"
      ],
      "execution_count": 4,
      "outputs": []
    },
    {
      "cell_type": "markdown",
      "metadata": {
        "id": "1k-jn_QuBLZq"
      },
      "source": [
        "<br>\n",
        "\n",
        "Focus on key `fields`"
      ]
    },
    {
      "cell_type": "code",
      "metadata": {
        "colab": {
          "base_uri": "https://localhost:8080/"
        },
        "id": "wK63TeaE0yV3",
        "outputId": "01cde927-f379-473d-e9bb-541d932ace16"
      },
      "source": [
        "variables = content['fields']\n",
        "fields = pd.DataFrame.from_dict(data=variables, orient='columns')\n",
        "fields.info()"
      ],
      "execution_count": 5,
      "outputs": [
        {
          "output_type": "stream",
          "text": [
            "<class 'pandas.core.frame.DataFrame'>\n",
            "RangeIndex: 20 entries, 0 to 19\n",
            "Data columns (total 4 columns):\n",
            " #   Column    Non-Null Count  Dtype \n",
            "---  ------    --------------  ----- \n",
            " 0   name      20 non-null     object\n",
            " 1   type      20 non-null     object\n",
            " 2   nullable  20 non-null     bool  \n",
            " 3   metadata  20 non-null     object\n",
            "dtypes: bool(1), object(3)\n",
            "memory usage: 628.0+ bytes\n"
          ],
          "name": "stdout"
        }
      ]
    },
    {
      "cell_type": "markdown",
      "metadata": {
        "id": "OtO2D9HzEOVC"
      },
      "source": [
        "<br>\n",
        "\n",
        "Mapping `type` to Python types\n",
        "\n",
        "* http://spark.apache.org/docs/2.4.8/sql-reference.html"
      ]
    },
    {
      "cell_type": "code",
      "metadata": {
        "id": "akF1eszbA2hN"
      },
      "source": [
        "def mappings(k: pd.Series):\n",
        "\n",
        "    dictionary = {'integer': int, 'string': str, 'double': float}\n",
        "\n",
        "    return k.apply(lambda x: dictionary[x])\n"
      ],
      "execution_count": 6,
      "outputs": []
    },
    {
      "cell_type": "code",
      "metadata": {
        "colab": {
          "base_uri": "https://localhost:8080/"
        },
        "id": "RIc7rfizCM4a",
        "outputId": "78242ea7-58cc-4cbc-9b81-835bbb1d1651"
      },
      "source": [
        "fields.loc[:, 'localtype'] = mappings(fields['type'])\n",
        "fields.info()"
      ],
      "execution_count": 7,
      "outputs": [
        {
          "output_type": "stream",
          "text": [
            "<class 'pandas.core.frame.DataFrame'>\n",
            "RangeIndex: 20 entries, 0 to 19\n",
            "Data columns (total 5 columns):\n",
            " #   Column     Non-Null Count  Dtype \n",
            "---  ------     --------------  ----- \n",
            " 0   name       20 non-null     object\n",
            " 1   type       20 non-null     object\n",
            " 2   nullable   20 non-null     bool  \n",
            " 3   metadata   20 non-null     object\n",
            " 4   localtype  20 non-null     object\n",
            "dtypes: bool(1), object(4)\n",
            "memory usage: 788.0+ bytes\n"
          ],
          "name": "stdout"
        }
      ]
    },
    {
      "cell_type": "markdown",
      "metadata": {
        "id": "UaNeBuA6BWja"
      },
      "source": [
        "<br>\n",
        "\n",
        "Creating the attributes for `pd.read_csv`"
      ]
    },
    {
      "cell_type": "code",
      "metadata": {
        "id": "LjUi-buu4EfD"
      },
      "source": [
        "usecols = fields.name.values\n",
        "dtype = fields[['name', 'localtype']].set_index(keys='name', drop=False, inplace=False).to_dict(orient='dict')['localtype']"
      ],
      "execution_count": 8,
      "outputs": []
    },
    {
      "cell_type": "markdown",
      "metadata": {
        "id": "STJeT76FGqbJ"
      },
      "source": [
        "<br>\n",
        "<br>\n",
        "\n",
        "### Data"
      ]
    },
    {
      "cell_type": "markdown",
      "metadata": {
        "id": "R7S3aOHGEriV"
      },
      "source": [
        "Hence, the data can be read carefully"
      ]
    },
    {
      "cell_type": "code",
      "metadata": {
        "id": "d804p8H9I4kq"
      },
      "source": [
        "dataurl = 'https://raw.githubusercontent.com/miscellane/hub/develop/data/countries/us/environment/toxins/chemicals/chemicalsEnvirofacts.csv'"
      ],
      "execution_count": 9,
      "outputs": []
    },
    {
      "cell_type": "code",
      "metadata": {
        "id": "55sFCAJC4SCp"
      },
      "source": [
        "try:\n",
        "    data = pd.read_csv(filepath_or_buffer=dataurl, header=0, usecols=usecols, dtype=dtype, encoding='utf-8')\n",
        "except OSError as err:\n",
        "    raise Exception(err.strerror) in err"
      ],
      "execution_count": 10,
      "outputs": []
    },
    {
      "cell_type": "code",
      "metadata": {
        "colab": {
          "base_uri": "https://localhost:8080/"
        },
        "id": "tE-DLh2OJLhS",
        "outputId": "dcece35d-defd-4a34-c8c2-cfc10ade2f6b"
      },
      "source": [
        "data.info()"
      ],
      "execution_count": 11,
      "outputs": [
        {
          "output_type": "stream",
          "text": [
            "<class 'pandas.core.frame.DataFrame'>\n",
            "RangeIndex: 823 entries, 0 to 822\n",
            "Data columns (total 20 columns):\n",
            " #   Column                                   Non-Null Count  Dtype  \n",
            "---  ------                                   --------------  -----  \n",
            " 0   TRI_CHEM_INFO.TRI_CHEM_ID                822 non-null    object \n",
            " 1   TRI_CHEM_INFO.CHEM_NAME                  822 non-null    object \n",
            " 2   TRI_CHEM_INFO.ACTIVE_DATE                823 non-null    int64  \n",
            " 3   TRI_CHEM_INFO.INACTIVE_DATE              823 non-null    int64  \n",
            " 4   TRI_CHEM_INFO.CAAC_IND                   823 non-null    int64  \n",
            " 5   TRI_CHEM_INFO.CARC_IND                   823 non-null    int64  \n",
            " 6   TRI_CHEM_INFO.R3350_IND                  823 non-null    int64  \n",
            " 7   TRI_CHEM_INFO.METAL_IND                  823 non-null    int64  \n",
            " 8   TRI_CHEM_INFO.FEDS_IND                   823 non-null    int64  \n",
            " 9   TRI_CHEM_INFO.CLASSIFICATION             823 non-null    int64  \n",
            " 10  TRI_CHEM_INFO.PBT_START_YEAR             21 non-null     float64\n",
            " 11  TRI_CHEM_INFO.PBT_END_YEAR               21 non-null     float64\n",
            " 12  TRI_CHEM_INFO.NO_DECIMALS                20 non-null     float64\n",
            " 13  TRI_CHEM_INFO.UNIT_OF_MEASURE            823 non-null    object \n",
            " 14  TRI_CHEM_INFO.CAS_REGISTRY_NUMBER        822 non-null    object \n",
            " 15  TRI_CHEM_INFO.SRS_ID                     819 non-null    float64\n",
            " 16  TRI_CHEM_INFO.DEFAULT_PERCENTAGE_TO_81C  821 non-null    float64\n",
            " 17  TRI_CHEM_INFO.DEFAULT_PERCENTAGE_TO_81D  821 non-null    float64\n",
            " 18  TRI_CHEM_INFO.DEFAULT_PERCENTAGE_TO_87   821 non-null    float64\n",
            " 19  TRI_CHEM_INFO.PFAS_IND                   823 non-null    int64  \n",
            "dtypes: float64(7), int64(9), object(4)\n",
            "memory usage: 128.7+ KB\n"
          ],
          "name": "stdout"
        }
      ]
    }
  ]
}